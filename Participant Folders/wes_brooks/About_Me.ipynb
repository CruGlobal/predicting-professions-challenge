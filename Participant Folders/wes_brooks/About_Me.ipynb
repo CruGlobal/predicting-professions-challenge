{
 "cells": [
  {
   "cell_type": "markdown",
   "metadata": {},
   "source": [
    "# Wes Brooks (Challenge Leader)\n",
    "## Cru, Digital Missionary, Machine Learning Lab Founder\n",
    "Wes loves everything at the intersection of technology, business, and creativity.  After finding his niche in data science and big data architectures, God called Wes and his wife Leah both to leave their Fortune 500 jobs to join staff with Cru full-time as Digital Missionaries at Urbana ‘15.  Today, Wes leads Cru’s pioneering work to leverage machine learning and big data to take the gospel further, faster, and to more people than ever before.\n"
   ]
  }
 ],
 "metadata": {
  "kernelspec": {
   "display_name": "Python 3",
   "language": "python",
   "name": "python3"
  },
  "language_info": {
   "codemirror_mode": {
    "name": "ipython",
    "version": 3
   },
   "file_extension": ".py",
   "mimetype": "text/x-python",
   "name": "python",
   "nbconvert_exporter": "python",
   "pygments_lexer": "ipython3",
   "version": "3.6.5"
  }
 },
 "nbformat": 4,
 "nbformat_minor": 2
}
