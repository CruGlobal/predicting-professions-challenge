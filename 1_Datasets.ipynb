{
 "cells": [
  {
   "cell_type": "markdown",
   "metadata": {},
   "source": [
    "# Getting the Data\n",
    "\n",
    "The data you'll be working with is located in the Google Team Drive 'H4M Propensity'.  If your google account hasn't already been given access, please request access via the Slack channel #challenge-propensity.\n",
    "\n",
    "## cru_org_clickstream.csv\n",
    "The Cru.org Clickstream dataset contains counts of (current, referer) pairs extracted from the request logs of Cru.org. A referer is the prior url that was viewed before the current url. The data shows how people get to Cru.org content and what links they click on. In other words, it gives a weighted network of articles, where each edge weight corresponds to how often people navigate from one page to another. To give an example, consider the figure below from the wikipedia clickstream dataset (which this data structure was based on), which shows incoming and outgoing traffic to the \"London\" article on English Wikipedia during January 2015.\n",
    "\n",
    "![wikipedia_clickstream](https://upload.wikimedia.org/wikipedia/commons/0/02/London_clickstream.png)\n",
    "\n",
    "### Data Preparation\n",
    "For this dataset, we are looking exclusively at traffic for Cru.org within the past 365 days of the upload date.  To increase privacy of our users, we summarized the clickstream log dataset, which included over 40 million records, into a (current, referrer) format.  In several cases, instead of including specific referrer URLs, the referral source was summarized (i.e. a facebook post that linked to Cru.org was summarized to 'social-facebook').  To clarify what the referrer was, we included a 'refr_type' column, which describes the type of referral source, using the format listed below.\n",
    "\n",
    "### Format\n",
    "The current data includes the following 4 fields:\n",
    "\n",
    " * **curr**:  the url of the page the user requested\n",
    " * **refr**: the referring url that led the user to the current url.\n",
    "     * In some cases, the referring URL was removed and replaced with a description of the referral source for privacy reasons.\n",
    " * **refr_type**: describes refr by type\n",
    "     * **direct**: if the source is direct to that page, or a referring URL wasn't available\n",
    "     * **internal**: if the referrer and current url are both on www.cru.org\n",
    "     * **search**: if the referring source was a search, and from which search engine\n",
    "     * **social**: if the referring source was social media, and from which social media source\n",
    "     * **email**: if the referring source was an email client, and from which email provider\n",
    "     * **cross-product**: if the referring source was from another Cru website, and from which one\n",
    "     * **unknown**: if it's unclear what the referrer source was\n",
    " * **n**: the number of occurrences of the (curr, refr) pair"
   ]
  },
  {
   "cell_type": "markdown",
   "metadata": {},
   "source": [
    "## content_info.csv\n",
    "The content dataset contains descriptors / labels of each content by url.  Not every URL in the clickstream dataset will be represented here.  This dataset was generated as a significant level of effort of human labeling of the content.  Other labels for this content would be critical in building a recommendation engine.  Can you use this information to generate predictive lables for all of Cru.org's URLs?\n",
    "\n",
    "### Format\n",
    "The content dataset contains 5 fields:\n",
    "\n",
    " * **content_url**:  where the content lives on cru.org\n",
    " * **audience_type**:  an evaluation of the content, indicating who would most likely engage with it.  Generally, this is the minimum position on the scale of belief that this content would likely be of interest to.  See the \"audience_scale_of_belief.csv\" dataset for more information. \n",
    " * **content_title**:  title of the article or page\n",
    " * **content_preview_text**:  a preview of the article text, if available.\n",
    " * **content_hierarchy**:  where this content lives under the cru.org website structure.\n"
   ]
  },
  {
   "cell_type": "markdown",
   "metadata": {},
   "source": [
    "## audience_scale_of_belief.csv\n",
    "An adaptation of [the engels scale](https://en.wikipedia.org/wiki/Engel_scale), which represents the journey a person takes from being a non-Christian, to becoming a Christian, to becoming a [multiplying disciple](https://www.cru.org/us/en/train-and-grow/leadership-training/starting-a-ministry/growing/spiritual-multiplication.html).  There have been varying models to describe the journey and spiritual growth of believers.  This dataset contains the descriptors developed by our team and evaluated by our theological development team to be a new iteration of the Engels Scale used  within Cru.\n",
    "\n",
    "We desire to personalize our digital strategies to love and serve our users with the love of Christ by helping them find the right content, at the right time, in the right way, to help them grow on their spiritual journeys.  One of the things we use this scale for is to improve content recommendations to users. If they are generally engaging with content at 6 on the scale of belief, we generally want to offer them more content that is either at a 5, 6, or 7 on a scale of belief.  Without this context/labeling, our recommendations could offer someone hostile towards Christianity an article that is about sharing their faith.  We want to help users find what's most helpful to them, and content scoring is a helpful label to leverage in recommendations\n",
    "\n",
    "We have evaluated and labeled a large set of Cru.org content based on which audience it is most intended for, or at least the minimum position on the scale of belief that it should be recommended to.  This dataset includes the descriptions for the labels in the *'audience_type'* column in the **'content_info.csv'** dataset."
   ]
  }
 ],
 "metadata": {
  "kernelspec": {
   "display_name": "Python 3",
   "language": "python",
   "name": "python3"
  },
  "language_info": {
   "codemirror_mode": {
    "name": "ipython",
    "version": 3
   },
   "file_extension": ".py",
   "mimetype": "text/x-python",
   "name": "python",
   "nbconvert_exporter": "python",
   "pygments_lexer": "ipython3",
   "version": "3.6.5"
  }
 },
 "nbformat": 4,
 "nbformat_minor": 2
}
