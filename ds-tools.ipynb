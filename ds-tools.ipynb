{
 "cells": [
  {
   "cell_type": "markdown",
   "metadata": {},
   "source": [
    "# Data Science Helpful Tools\n",
    "\n",
    "## Anaconda\n",
    "The simplest way to get started is by downloading a copy of Anaconda ([about](https://www.anaconda.com/what-is-anaconda/) | [download](https://www.anaconda.com/download/#macos)) onto your machine.  Once that's installed, launch the navigator and open up [JupyterLab](https://jupyterlab.readthedocs.io/en/stable/getting_started/overview.html).  You'll be directed to a locally running instance of JupyterLab in your browser to get started.\n",
    "\n",
    "## GitHub\n",
    "You'll want to download a copy of this github repo to do your work on your local environment.  Once you've created an account, post your github username to the project channel so we can add you as a contributor. Clone the repo locally, and create a folder with your name (first letter of your first name and your last name, i.e. wbrooks).  This is where you'll store any/all of your work.  Commit often, based on completing small units of work.\n",
    "\n",
    " - [Intro to Git & GitHub](https://guides.github.com/activities/hello-world/)\n",
    " - [Other GitHub Guides](https://guides.github.com/)\n",
    " \n",
    " I personally use [GitHub Desktop]() to manage code commits/pushes/pulls.\n",
    " \n",
    "## Jupyter Notebooks & JupyterLab\n",
    "Notebooks are simple interfaces that combine code chunks, markdown for documenting, and code outputs.  In fact, this document was built using a Jupyter Notebook, written in JupyterLab.\n",
    "\n",
    "- [Intro to Notebooks for Data Science](https://www.svds.com/jupyter-notebook-best-practices-for-data-science/)\n",
    "- [Intro to JupyterLab](https://blog.jupyter.org/jupyterlab-is-ready-for-users-5a6f039b8906)\n",
    "- [Starter's Guide to Jupyter Notebooks](https://www.analyticsvidhya.com/blog/2018/05/starters-guide-jupyter-notebook/)\n",
    "- [Jupyter's Getting Started with JupyterLab](https://jupyterlab.readthedocs.io/en/stable/user/interface.html)\n"
   ]
  },
  {
   "cell_type": "code",
   "execution_count": null,
   "metadata": {},
   "outputs": [],
   "source": []
  }
 ],
 "metadata": {
  "kernelspec": {
   "display_name": "Python 3",
   "language": "python",
   "name": "python3"
  },
  "language_info": {
   "codemirror_mode": {
    "name": "ipython",
    "version": 3
   },
   "file_extension": ".py",
   "mimetype": "text/x-python",
   "name": "python",
   "nbconvert_exporter": "python",
   "pygments_lexer": "ipython3",
   "version": "3.6.5"
  }
 },
 "nbformat": 4,
 "nbformat_minor": 2
}
