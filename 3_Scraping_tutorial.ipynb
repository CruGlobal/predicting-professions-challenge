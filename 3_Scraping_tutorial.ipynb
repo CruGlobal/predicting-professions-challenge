{
 "cells": [
  {
   "cell_type": "markdown",
   "metadata": {},
   "source": [
    "# Page Scraing Instructions\n",
    "\n",
    "Here's a great beginner-level tutorial on scraping text from web pages:  https://www.dataquest.io/blog/web-scraping-tutorial-python/\n",
    "\n",
    "This notebook highlights the most crucial parts to getting started.\n",
    "\n",
    "You'll want to leverage two libraries to generate the text to analyze:  [Beautiful Soup](https://www.crummy.com/software/BeautifulSoup/) and [Requests](http://docs.python-requests.org/en/master/)"
   ]
  },
  {
   "cell_type": "code",
   "execution_count": 1,
   "metadata": {},
   "outputs": [],
   "source": [
    "from bs4 import BeautifulSoup\n",
    "import requests\n",
    "\n",
    "page = requests.get(\"https://www.cru.org/us/en/train-and-grow/spiritual-growth/the-spirit-filled-life.html\")\n",
    "soup = BeautifulSoup(page.content, 'html.parser')"
   ]
  },
  {
   "cell_type": "markdown",
   "metadata": {},
   "source": [
    "## Then you'll want to look at common tags in the HTML structures, like the paragraph tag:"
   ]
  },
  {
   "cell_type": "code",
   "execution_count": 7,
   "metadata": {},
   "outputs": [
    {
     "data": {
      "text/plain": [
       "[<p>Understand how you can know God personally.</p>,\n",
       " <p>Learn the basics of what Christians believe.</p>,\n",
       " <p>Get the answers to frequently asked questions on Christian beliefs and practices.</p>,\n",
       " <p>Explore answers to life's biggest questions.</p>,\n",
       " <p>We all have a story. Read about individuals who have been transformed by faith.</p>,\n",
       " <p>Take the next step in your faith journey with devotionals, resources and core truths.</p>,\n",
       " <p>Explore life's questions from trials and hardships to dating and marriage.</p>,\n",
       " <p>Find resources for personal or group Bible study.</p>,\n",
       " <p>Understand evangelism and strategies to help share your faith story.</p>,\n",
       " <p>Help others in their faith journey through discipleship and mentoring.</p>,\n",
       " <p>Develop your leadership skills and learn how to launch a ministry wherever you are.</p>,\n",
       " <p>View our top Cru resources in more than 20 languages.</p>,\n",
       " <p>Helping students know Jesus, grow in their faith and go to the world to tell others.</p>,\n",
       " <p>Connecting in community for the well-being of the city.</p>,\n",
       " <p>Partnering with urban churches to meet physical and spiritual needs.</p>,\n",
       " <p>Engaging around sports to help athletes think and live biblically.</p>,\n",
       " <p>Equipping families with practical approaches to parenting and marriage.</p>,\n",
       " <p>Reaching students and faculty in middle and high school.</p>,\n",
       " <p>Bringing hope and resources to military families worldwide.</p>,\n",
       " <p></p>,\n",
       " <p></p>,\n",
       " <p>Partner with Cru on a short-term missions trip.</p>,\n",
       " <p>Internship opportunities with Cru's ministries.</p>,\n",
       " <p>Latest job openings at Cru.</p>,\n",
       " <p>Live in another country building relationships and ministries with eternal impact.</p>,\n",
       " <p>Would you like to give your time to work with Cru? We need you.</p>,\n",
       " <p>Find a Cru event near you.</p>,\n",
       " <p>Use your hobbies and interests to find the best place for you to serve.</p>,\n",
       " <p>Answers to questions on donations, financial policies, Cru’s annual report and more.</p>,\n",
       " <p>How we seek to journey together with everyone towards a relationship with Jesus.</p>,\n",
       " <p>What we believe about the gospel and our call to serve every nation.</p>,\n",
       " <p>Learn about Cru's global leadership team.</p>,\n",
       " <p>When the global church comes together then powerful things can happen.</p>,\n",
       " <p>Hear what others are saying about Cru.</p>,\n",
       " <p></p>,\n",
       " <p>Leading from values so others will walk passionately with God to grow and bear fruit.</p>,\n",
       " <p></p>,\n",
       " <p></p>,\n",
       " <p></p>,\n",
       " <p></p>,\n",
       " <p></p>,\n",
       " <p>$450,000 is needed by Dec. 31 to support staff on the frontlines! Please give today!</p>,\n",
       " <p>Every day can be an exciting adventure for the Christian who knows the reality of being filled with the Holy Spirit and who lives constantly, moment by moment, under His gracious direction.<br/>\n",
       " <br/>\n",
       "  </p>,\n",
       " <p class=\"col-sm-3 u-floatRight ml mb\"><img src=\"https://cdn1-www.cru.org/content/dam/cru/train-and-grow/4-laws-natural-person.png.pagespeed.ce.-x5o8enlSo.png\"/></p>,\n",
       " <p>(Someone who has not received Christ.)</p>,\n",
       " <p>Self is on the throne, directing decisions and actions (represented by the dots), often resulting in frustration. Jesus is outside the life.</p>,\n",
       " <p><i>“A natural man does not accept the things of the Spirit of God; for they are foolishness to him, and he cannot understand them, because they are spiritually appraised” (1 Corinthians 2:14).</i></p>,\n",
       " <p class=\"col-sm-3 u-floatRight ml mb\"><img src=\"https://cdn1-www.cru.org/content/dam/cru/train-and-grow/4-laws-christ-directed.png.pagespeed.ce.RrOBRflaNn.png\"/></p>,\n",
       " <p>(One who is directed and empowered by the Holy Spirit.)</p>,\n",
       " <p>Jesus is in the life and on the throne. Self is yielding to Jesus. The person sees Jesus' influence and direction in their life.</p>,\n",
       " <p><i>“He who is spiritual appraises all things...We have the mind of Christ” (1 Corinthians 2:15).</i></p>,\n",
       " <p class=\"col-sm-3 u-floatRight ml mb\"><img src=\"https://cdn1-www.cru.org/content/dam/cru/train-and-grow/4-laws-carnal-christian.png.pagespeed.ce.8OnJADX_G2.png\"/></p>,\n",
       " <p>(One who has received Christ, but who lives in defeat because he is trying to live the Christian life in his own strength.)</p>,\n",
       " <p>Jesus is in the life but not on the throne. Self is on the throne, directing decisions and actions (represented by the dots), often resulting in frustration.</p>,\n",
       " <p><i>“And I brethren, could not speak to you as to spiritual men, but as to carnal men, as to babes in Christ. I gave you milk to drink, not solid food; for you were not yet able to receive it. Indeed, even now you are not yet able, for you are still carnal. For since there is jealousy and strife among you, are you not fleshy, and are you not walking like mere men?” (1 Corinthians 3:1-3)<br/>\n",
       "  </i></p>,\n",
       " <p><img src=\"https://cdn1-www.cru.org/content/dam/cru/train-and-grow/spiritual-growth/spirit-filled-life-promise-and-problem-2.png.pagespeed.ce.bZvGdv8msw.png\"/></p>,\n",
       " <p>Jesus said, “I came that they might have life, and might have it abundantly” (John 10:10).</p>,\n",
       " <p>“I am the vine, you are the branches; he who abides in Me, and I in him, he bears much fruit; for apart from Me you can do nothing” (John 15:5).</p>,\n",
       " <p>“But the fruit of the spirit is love, joy, peace, patience, kindness, goodness, faithfulness, gentleness, self-control; against such things there is no law” (Galatians 5:22, 23).</p>,\n",
       " <p>“But you shall receive power when the Holy Spirit has come upon you; and shall be My witnesses both in Jerusalem, and in all Judea and Samaria, and even to the remotest part of the earth” (Acts 1:8).</p>,\n",
       " <p><img class=\"col-sm-3 u-floatRight ml mb\" src=\"https://cdn1-www.cru.org/content/dam/cru/train-and-grow/4-laws-christ-directed.png.pagespeed.ce.RrOBRflaNn.png\"/></p>,\n",
       " <p>Some spiritual traits which result from trusting God:</p>,\n",
       " <p>The degree to which these traits are manifested in the life depends upon the extent to which the Christian trusts the Lord with every detail of his life, and upon his maturity in Christ. One who is only beginning to understand the ministry of the Holy Spirit should not be discouraged if he is not as fruitful as more mature Christians who have known and experienced this truth for a longer period.<br/>\n",
       " </p>,\n",
       " <p>Carnal Christians cannot experience the abundant and fruitful Christian life. The carnal person trusts in his own efforts to live the Christian life:</p>,\n",
       " <p>Some or all of the following traits may characterize the Christian who does not fully trust God:<img class=\"col-sm-3 u-floatRight ml mb\" src=\"https://cdn1-www.cru.org/content/dam/cru/train-and-grow/4-laws-carnal-christian.png.pagespeed.ce.8OnJADX_G2.png\"/></p>,\n",
       " <p>(The individual who professes to be a Christian but who continues to practice sin should realize that he may not be a Christian at all, according to 1 John 2:3; 3:6, 9; Ephesians 5:5).</p>,\n",
       " <p>The Spirit-filled life is the Christ-directed life by which Christ lives His life in and through us in the power of the Holy Spirit (John 15).</p>,\n",
       " <p><b>We are filled by the Holy Spirit by faith; then we can experience the abundant and fruitful life which Christ promised to each Christian.</b></p>,\n",
       " <p>You can appropriate the filling of the Holy Spirit right now if you:</p>,\n",
       " <p><b>Faith can be expressed through prayer...<br/>\n",
       " </b></p>,\n",
       " <p>We are filled with the Holy Spirit by faith alone. However, true prayer is one way of expressing your faith. The following is a suggested prayer:</p>,\n",
       " <p style=\"margin-left: 40px;\"><i>“Dear Father, I need You. I acknowledge that I have been directing my own life and that, as a result, I have sinned against You. I thank You that You have forgiven my sins through Christ's death on the cross for me. I now invite Christ to again take His place on the throne of my life. Fill me with the Holy Spirit as You commanded me to be filled, and as You promised in Your Word that You would do if I asked in faith. I now thank You for directing my life and for filling me with the Holy Spirit.”</i></p>,\n",
       " <p>Does this prayer express the desire of your heart? If so, ask God to fill you with the Holy Spirit right now and trust Him to do so.</p>,\n",
       " <p>Did you ask God to fill you with the Holy Spirit? Do you know that you are now filled with the Holy Spirit? On what authority? (On the trustworthiness of God Himself and His Word: Hebrews 11:6; Romans 14:22, 23.)</p>,\n",
       " <p>Do not depend upon feelings. The promise of God's Word, not our feelings, is our authority. The Christian lives by faith (trust) in the trustworthiness of God Himself and His Word. This train diagram illustrates the relationship between fact (God and His Word), faith (our trust in God and His Word), and feeling (the result of our faith and obedience) (John 14:21).</p>,\n",
       " <p><img src=\"https://cdn2-www.cru.org/content/dam/cru/train-and-grow/spiritual-growth/spirit-filled-life-train.png.pagespeed.ce.IHdm39phjo.png\"/><br/>\n",
       " </p>,\n",
       " <p>The train will run with or without the caboose. However, it would be futile to attempt to pull the train by the caboose. In the same way, we, as Christians, do not depend upon feelings or emotions, but we place our faith (trust) in the trustworthiness of God and the promises of His Word.</p>,\n",
       " <p>Faith (trust in God and in His promises) is the only means by which a Christian can live the Spirit-directed life. As you continue to trust Christ moment by moment:</p>,\n",
       " <p><b>Spiritual Breathing</b></p>,\n",
       " <p>By faith you can continue to experience God's love and forgiveness.</p>,\n",
       " <p>If you become aware of an area of your life (an attitude or an action) that is displeasing to the Lord, even though you are walking with Him and sincerely desiring to serve Him, simply thank God that He has forgiven your sins – past, present and future – on the basis of Christ's death on the cross. Claim His love and forgiveness by faith and continue to have fellowship with Him.</p>,\n",
       " <p>If you retake the throne of your life through sin – a definite act of disobedience – breathe spiritually.</p>,\n",
       " <p>Spiritual breathing (exhaling the impure and inhaling the pure) is an exercise in faith that enables you to continue to experience God's love and forgiveness.</p>,\n",
       " <p style=\"text-align: center;\"><a class=\"btn btn-primary\" href=\"https://www.cru.org/us/en/train-and-grow/spiritual-growth/holy-spirit-resource-kit.html\">Get the Spirit-Filled Life Starter Kit</a><br/>\n",
       " </p>,\n",
       " <p>Adapted from <em>Have You Made the Wonderful Discovery of the Spirit-Filled Life?</em> by Dr. Bill Bright, co-founder of Campus Crusade for Christ. © Cru. All rights reserved.</p>,\n",
       " <p class=\"tc visible-print-block\">\n",
       " ©1994-2018 Cru. All Rights Reserved.\n",
       " </p>]"
      ]
     },
     "execution_count": 7,
     "metadata": {},
     "output_type": "execute_result"
    }
   ],
   "source": [
    "soup.find_all('p')"
   ]
  },
  {
   "cell_type": "markdown",
   "metadata": {},
   "source": [
    "## Next Steps\n",
    "Keep exploring the tags to determine how to clean up the content on the pages based on removing certain tags, or searching for more specific tags than the paragraph tag alone.  Build a dataframe of all the text across all the content on cru.org based on the URLs in the source dataset."
   ]
  }
 ],
 "metadata": {
  "kernelspec": {
   "display_name": "Python 3",
   "language": "python",
   "name": "python3"
  },
  "language_info": {
   "codemirror_mode": {
    "name": "ipython",
    "version": 3
   },
   "file_extension": ".py",
   "mimetype": "text/x-python",
   "name": "python",
   "nbconvert_exporter": "python",
   "pygments_lexer": "ipython3",
   "version": "3.6.5"
  }
 },
 "nbformat": 4,
 "nbformat_minor": 2
}
